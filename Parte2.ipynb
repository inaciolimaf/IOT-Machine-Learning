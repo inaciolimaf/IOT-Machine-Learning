{
 "cells": [
  {
   "cell_type": "code",
   "execution_count": 11,
   "id": "20da9118-7135-4d48-9e43-68964386f186",
   "metadata": {},
   "outputs": [],
   "source": [
    "def gerar_relatorio(y_test, y_pred):\n",
    "    acuracia = accuracy_score(y_test, y_pred)\n",
    "    print(\"Acurácia:\", acuracia)\n",
    "    \n",
    "    # Calculando a matriz de confusão\n",
    "    conf_matrix = confusion_matrix(y_test, y_pred)\n",
    "    print(\"Matriz de Confusão:\")\n",
    "    print(conf_matrix)\n",
    "    \n",
    "    # Calculando precisão, recall e F1-score\n",
    "    print(\"Relatório de Classificação:\")\n",
    "    print(classification_report(y_test, y_pred))"
   ]
  },
  {
   "cell_type": "markdown",
   "id": "a7259e18-5e7f-4022-8a80-9e5d4a393f3b",
   "metadata": {},
   "source": [
    "# Importação"
   ]
  },
  {
   "cell_type": "code",
   "execution_count": 12,
   "id": "f330c50d-bc31-4680-89e4-1c35def06ae4",
   "metadata": {},
   "outputs": [],
   "source": [
    "from sklearn.model_selection import train_test_split\n",
    "from sklearn.metrics import accuracy_score, confusion_matrix, classification_report, roc_auc_score\n",
    "from sklearn.datasets import load_wine\n",
    "from sklearn.ensemble import RandomForestClassifier\n",
    "from sklearn.tree import DecisionTreeClassifier\n",
    "from sklearn.svm import SVC\n",
    "from sklearn.neural_network import MLPClassifier\n",
    "import matplotlib.pyplot as plt"
   ]
  },
  {
   "cell_type": "markdown",
   "id": "1e8bb6ba-7fab-49a2-ab7f-2911c063e082",
   "metadata": {},
   "source": [
    "# Carregamento da base de dados"
   ]
  },
  {
   "cell_type": "code",
   "execution_count": 13,
   "id": "832533ad-5115-42ef-b9b8-a7e91cef40ca",
   "metadata": {},
   "outputs": [],
   "source": [
    "wine_data = load_wine()\n",
    "X = wine_data.data\n",
    "y = wine_data.target\n",
    "\n",
    "# Dividir os dados em conjuntos de treinamento e teste\n",
    "X_train, X_test, y_train, y_test = train_test_split(X, y, test_size=0.2, random_state=42)\n",
    "acuracias = []"
   ]
  },
  {
   "cell_type": "markdown",
   "id": "d64dfb47-d8c7-4a95-a933-bf4f1adb9049",
   "metadata": {},
   "source": [
    "# Random Forest"
   ]
  },
  {
   "cell_type": "code",
   "execution_count": 14,
   "id": "7cad6722-219f-44de-b459-695e7b663efa",
   "metadata": {},
   "outputs": [
    {
     "name": "stdout",
     "output_type": "stream",
     "text": [
      "Acurácia: 1.0\n",
      "Matriz de Confusão:\n",
      "[[14  0  0]\n",
      " [ 0 14  0]\n",
      " [ 0  0  8]]\n",
      "Relatório de Classificação:\n",
      "              precision    recall  f1-score   support\n",
      "\n",
      "           0       1.00      1.00      1.00        14\n",
      "           1       1.00      1.00      1.00        14\n",
      "           2       1.00      1.00      1.00         8\n",
      "\n",
      "    accuracy                           1.00        36\n",
      "   macro avg       1.00      1.00      1.00        36\n",
      "weighted avg       1.00      1.00      1.00        36\n",
      "\n"
     ]
    }
   ],
   "source": [
    "clf = RandomForestClassifier(n_estimators=100, random_state=42)\n",
    "clf.fit(X_train, y_train)\n",
    "y_pred = clf.predict(X_test)\n",
    "acuracias.append(accuracy_score(y_test, y_pred))\n",
    "gerar_relatorio(y_test, y_pred)"
   ]
  },
  {
   "cell_type": "markdown",
   "id": "d197b59f-0dc3-403b-8be1-ef659990acd8",
   "metadata": {},
   "source": [
    "# Árvore de Decisão"
   ]
  },
  {
   "cell_type": "code",
   "execution_count": 15,
   "id": "ad96d8e0-f876-451a-8f93-5fc66547791a",
   "metadata": {},
   "outputs": [
    {
     "name": "stdout",
     "output_type": "stream",
     "text": [
      "Acurácia: 0.9444444444444444\n",
      "Matriz de Confusão:\n",
      "[[13  1  0]\n",
      " [ 0 14  0]\n",
      " [ 0  1  7]]\n",
      "Relatório de Classificação:\n",
      "              precision    recall  f1-score   support\n",
      "\n",
      "           0       1.00      0.93      0.96        14\n",
      "           1       0.88      1.00      0.93        14\n",
      "           2       1.00      0.88      0.93         8\n",
      "\n",
      "    accuracy                           0.94        36\n",
      "   macro avg       0.96      0.93      0.94        36\n",
      "weighted avg       0.95      0.94      0.94        36\n",
      "\n"
     ]
    }
   ],
   "source": [
    "clf = DecisionTreeClassifier()\n",
    "clf.fit(X_train, y_train)\n",
    "y_pred = clf.predict(X_test)\n",
    "acuracias.append(accuracy_score(y_test, y_pred))\n",
    "gerar_relatorio(y_test, y_pred)"
   ]
  },
  {
   "cell_type": "markdown",
   "id": "f745ff05-aeae-4cd7-9470-394b083c81d4",
   "metadata": {},
   "source": [
    "# SVM"
   ]
  },
  {
   "cell_type": "code",
   "execution_count": 16,
   "id": "a99abad6-d396-4fdb-9d5c-f0ffac6057e1",
   "metadata": {},
   "outputs": [
    {
     "name": "stdout",
     "output_type": "stream",
     "text": [
      "Acurácia: 1.0\n",
      "Matriz de Confusão:\n",
      "[[14  0  0]\n",
      " [ 0 14  0]\n",
      " [ 0  0  8]]\n",
      "Relatório de Classificação:\n",
      "              precision    recall  f1-score   support\n",
      "\n",
      "           0       1.00      1.00      1.00        14\n",
      "           1       1.00      1.00      1.00        14\n",
      "           2       1.00      1.00      1.00         8\n",
      "\n",
      "    accuracy                           1.00        36\n",
      "   macro avg       1.00      1.00      1.00        36\n",
      "weighted avg       1.00      1.00      1.00        36\n",
      "\n"
     ]
    }
   ],
   "source": [
    "clf = SVC(kernel='linear', random_state=42)\n",
    "clf.fit(X_train, y_train)\n",
    "y_pred = clf.predict(X_test)\n",
    "acuracias.append(accuracy_score(y_test, y_pred))\n",
    "gerar_relatorio(y_test, y_pred)"
   ]
  },
  {
   "cell_type": "markdown",
   "id": "a0e4d9e1-930e-4995-9294-eaa86750c192",
   "metadata": {},
   "source": [
    "# Multilayer Perceptron"
   ]
  },
  {
   "cell_type": "code",
   "execution_count": 17,
   "id": "44614601-f1b5-496a-8488-2b77d49d7fa5",
   "metadata": {},
   "outputs": [
    {
     "name": "stdout",
     "output_type": "stream",
     "text": [
      "Acurácia: 0.9722222222222222\n",
      "Matriz de Confusão:\n",
      "[[13  1  0]\n",
      " [ 0 14  0]\n",
      " [ 0  0  8]]\n",
      "Relatório de Classificação:\n",
      "              precision    recall  f1-score   support\n",
      "\n",
      "           0       1.00      0.93      0.96        14\n",
      "           1       0.93      1.00      0.97        14\n",
      "           2       1.00      1.00      1.00         8\n",
      "\n",
      "    accuracy                           0.97        36\n",
      "   macro avg       0.98      0.98      0.98        36\n",
      "weighted avg       0.97      0.97      0.97        36\n",
      "\n"
     ]
    }
   ],
   "source": [
    "clf = MLPClassifier(hidden_layer_sizes=(100,), max_iter=10000, random_state=42)\n",
    "clf.fit(X_train, y_train)\n",
    "y_pred = clf.predict(X_test)\n",
    "acuracias.append(accuracy_score(y_test, y_pred))\n",
    "gerar_relatorio(y_test, y_pred)"
   ]
  },
  {
   "cell_type": "code",
   "execution_count": 18,
   "id": "f7466723-1e67-46ca-91f8-3aab370a21df",
   "metadata": {},
   "outputs": [
    {
     "data": {
      "image/png": "[encoded data removed]",
      "text/plain": [
       "<Figure size 500x400 with 1 Axes>"
      ]
     },
     "metadata": {},
     "output_type": "display_data"
    }
   ],
   "source": [
    "plt.figure(figsize=(5, 4))\n",
    "plt.bar(['Random Forest', 'Árvore de Decisão', 'SVM', 'Multilayer Perceptron'], acuracias, color=['blue', 'green', 'red', 'yellow'])\n",
    "plt.xlabel('Algoritmo de Classificação')\n",
    "plt.ylabel('Acurácia')\n",
    "plt.title('Acurácia dos Algoritmos de Classificação')\n",
    "plt.ylim(0, 1)\n",
    "plt.show()"
   ]
  },
  {
   "cell_type": "code",
   "execution_count": 19,
   "id": "d13ad743-0693-4c1d-ab39-fc28279facfc",
   "metadata": {},
   "outputs": [
    {
     "data": {
      "text/plain": [
       "[1.0, 0.9444444444444444, 1.0, 0.9722222222222222]"
      ]
     },
     "execution_count": 19,
     "metadata": {},
     "output_type": "execute_result"
    }
   ],
   "source": [
    "acuracias"
   ]
  }
 ],
 "metadata": {
  "kernelspec": {
   "display_name": "Python 3 (ipykernel)",
   "language": "python",
   "name": "python3"
  },
  "language_info": {
   "codemirror_mode": {
    "name": "ipython",
    "version": 3
   },
   "file_extension": ".py",
   "mimetype": "text/x-python",
   "name": "python",
   "nbconvert_exporter": "python",
   "pygments_lexer": "ipython3",
   "version": "3.12.2"
  }
 },
 "nbformat": 4,
 "nbformat_minor": 5
}
